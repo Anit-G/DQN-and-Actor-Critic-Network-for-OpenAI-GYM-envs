{
 "cells": [
  {
   "attachments": {},
   "cell_type": "markdown",
   "metadata": {},
   "source": [
    "# Assignement for DQN and Actor Critic Model\n",
    "\n",
    "Train variations of DQN and AC models for the following OpenAI GYM Enviornments\\\n",
    ">Acrobot-v1\\\n",
    ">CartPole-v1\\\n",
    ">MountainCar-v0\n",
    "\n",
    "metric: Number of episodes needed to solve the enviornment\\\n",
    "Plot Reward Curve\\\n",
    "Print number of steps to completion in each episode"
   ]
  },
  {
   "cell_type": "code",
   "execution_count": 2,
   "metadata": {},
   "outputs": [],
   "source": [
    "import numpy as np\n",
    "import datetime\n",
    "\n",
    "from Agent import ACAgent,QnetAgent\n",
    "from Envs import cartpole,mountaincar,acrobot\n",
    "import torch\n",
    "from misc import Experiments\n",
    "\n",
    "model_exps = Experiments()\n",
    "device = torch.device(\"cuda:0\" if torch.cuda.is_available() else \"cpu\")"
   ]
  },
  {
   "cell_type": "code",
   "execution_count": 3,
   "metadata": {},
   "outputs": [],
   "source": [
    "# ''' RUN AC Model using Torch '''\n",
    "# from misc import AC_Torch\n",
    "# from Agent import ACAgent_torch\n",
    "# begin_time = datetime.datetime.now()\n",
    "\n",
    "# env, state_shape, action_shape = acrobot()\n",
    "# agent = ACAgent_torch(state_size=state_shape,action_size=env.action_space.n, lr=0.001)\n",
    "# rewards_epsilon = AC_Torch(env=env,agent=agent)\n",
    "\n",
    "# time_taken = datetime.datetime.now() - begin_time\n",
    "# print(f\"Time of Completion for Trainig: {time_taken}\")"
   ]
  },
  {
   "attachments": {},
   "cell_type": "markdown",
   "metadata": {},
   "source": [
    "# DQN"
   ]
  },
  {
   "cell_type": "code",
   "execution_count": 4,
   "metadata": {},
   "outputs": [
    {
     "name": "stdout",
     "output_type": "stream",
     "text": [
      "--------- MountainCar-v0 Env ----------\n",
      "State Shape: 2\n",
      "Action Shape: 3\n",
      "Enviornment Action Sample: 0\n",
      "-----------\n",
      "Initial State Value:\n",
      "(array([-0.47260767,  0.        ], dtype=float32), {})\n",
      "-----------\n",
      "-----------\n",
      "Initial Action Value:\n",
      "0\n",
      "-----------\n",
      "Enviornment step:  (array([-0.4739886 , -0.00138094], dtype=float32), -1.0, False, False, {})\n"
     ]
    },
    {
     "name": "stderr",
     "output_type": "stream",
     "text": [
      "d:\\College IITM\\Semester 8\\CS6700 RL\\Tutorials\\Assignment 2\\DQN and ACN\\.venv\\lib\\site-packages\\gym\\utils\\passive_env_checker.py:233: DeprecationWarning: `np.bool8` is a deprecated alias for `np.bool_`.  (Deprecated NumPy 1.24)\n",
      "  if not isinstance(terminated, (bool, np.bool8)):\n"
     ]
    },
    {
     "name": "stdout",
     "output_type": "stream",
     "text": [
      "Episode 100\tAverage Score: -999.70\n",
      "Episode 120\tAverage Score: -999.70"
     ]
    }
   ],
   "source": [
    "model_exps.DQN_experiment(env_fn=mountaincar,\n",
    "                        batchsize=64,buffersize=int(1e5),q_gamma=0.99,q_lr=5e-4,update=20,target_units=[64,32],local_units=[64,32],\n",
    "                        q_episodes=5000,max_t=1000,eps_s=1.0,eps_e=0.01,eps_d=0.995)"
   ]
  },
  {
   "cell_type": "code",
   "execution_count": null,
   "metadata": {},
   "outputs": [],
   "source": [
    "from misc import DQN, plot\n",
    "''' Trial run to check if algorithm runs and saves the data '''\n",
    "\n",
    "begin_time = datetime.datetime.now()\n",
    "env, state_shape, action_shape = mountaincar()\n",
    "agent = QnetAgent(state_size=state_shape,action_size = action_shape, seed = 42,\n",
    "                  BUFFER_SIZE = int(1e5),\n",
    "                  BATCH_SIZE = 64,\n",
    "                  GAMMA = 0.99,\n",
    "                  LR = 5e-4,\n",
    "                  UPDATE_EVERY = 20,\n",
    "                  target_fc_units=[64,32],\n",
    "                  local_fc_units=[64,32])\n",
    "rewards_epsilon = DQN(env=env,agent=agent,\n",
    "                        n_episodes=5000,\n",
    "                        max_t=1000,\n",
    "                        eps_start=1.0,\n",
    "                        eps_end=0.01,\n",
    "                        eps_decay=0.995)\n",
    "\n",
    "time_taken = datetime.datetime.now() - begin_time\n",
    "print(f\"Time of Completion for Trainig: {time_taken}\")\n",
    "plot(rewards_epsilon[0], rewards_epsilon[1])"
   ]
  },
  {
   "attachments": {},
   "cell_type": "markdown",
   "metadata": {},
   "source": [
    "# Actro Critic"
   ]
  },
  {
   "cell_type": "code",
   "execution_count": null,
   "metadata": {},
   "outputs": [],
   "source": []
  }
 ],
 "metadata": {
  "kernelspec": {
   "display_name": ".venv",
   "language": "python",
   "name": "python3"
  },
  "language_info": {
   "codemirror_mode": {
    "name": "ipython",
    "version": 3
   },
   "file_extension": ".py",
   "mimetype": "text/x-python",
   "name": "python",
   "nbconvert_exporter": "python",
   "pygments_lexer": "ipython3",
   "version": "3.8.0"
  },
  "orig_nbformat": 4
 },
 "nbformat": 4,
 "nbformat_minor": 2
}
