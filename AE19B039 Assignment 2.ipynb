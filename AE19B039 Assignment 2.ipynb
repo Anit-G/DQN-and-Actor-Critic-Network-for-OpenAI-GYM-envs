{
 "cells": [
  {
   "attachments": {},
   "cell_type": "markdown",
   "metadata": {},
   "source": [
    "# Assignement for DQN and Actor Critic Model\n",
    "\n",
    "Train variations of DQN and AC models for the following OpenAI GYM Enviornments\\\n",
    ">Acrobot-v1\\\n",
    ">CartPole-v1\\\n",
    ">MountainCar-v0\n",
    "\n",
    "metric: Number of episodes needed to solve the enviornment\\\n",
    "Plot Reward Curve\\\n",
    "Print number of steps to completion in each episode"
   ]
  },
  {
   "cell_type": "code",
   "execution_count": null,
   "metadata": {},
   "outputs": [],
   "source": [
    "import numpy as np\n",
    "import datetime\n",
    "\n",
    "from Agent import ACAgent,QnetAgent\n",
    "from Envs import cartpole\n",
    "from misc import DQN,AC"
   ]
  },
  {
   "attachments": {},
   "cell_type": "markdown",
   "metadata": {},
   "source": [
    "# DQN"
   ]
  },
  {
   "cell_type": "code",
   "execution_count": null,
   "metadata": {},
   "outputs": [],
   "source": [
    "''' Trial run to check if algorithm runs and saves the data '''\n",
    "\n",
    "# begin_time = datetime.datetime.now()\n",
    "# env, state_shape, action_shape = cartpole()\n",
    "# agent = QnetAgent(state_size=state_shape,action_size = action_shape, seed = 0,\n",
    "#                   BUFFER_SIZE = int(1e5),\n",
    "#                   BATCH_SIZE = 64,\n",
    "#                   GAMMA = 0.99,\n",
    "#                   LR = 5e-4,\n",
    "#                   UPDATE_EVERY = 20)\n",
    "# rewards_epsilon = DQN()\n",
    "\n",
    "# time_taken = datetime.datetime.now() - begin_time\n",
    "# print(f\"Time of Completion for Trainig: {time_taken}\")"
   ]
  },
  {
   "attachments": {},
   "cell_type": "markdown",
   "metadata": {},
   "source": [
    "# Actro Critic"
   ]
  },
  {
   "cell_type": "code",
   "execution_count": null,
   "metadata": {},
   "outputs": [],
   "source": [
    "# begin_time = datetime.datetime.now()\n",
    "\n",
    "# env, state_shape, action_shape = cartpole()\n",
    "# agent = ACAgent(action_size=env.action_space.n, lr=1e-4)\n",
    "# rewards_epsilon = AC()\n",
    "\n",
    "# time_taken = datetime.datetime.now() - begin_time\n",
    "# print(f\"Time of Completion for Trainig: {time_taken}\")"
   ]
  }
 ],
 "metadata": {
  "language_info": {
   "name": "python"
  },
  "orig_nbformat": 4
 },
 "nbformat": 4,
 "nbformat_minor": 2
}
