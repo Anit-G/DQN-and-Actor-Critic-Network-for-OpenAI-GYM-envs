{
 "cells": [
  {
   "attachments": {},
   "cell_type": "markdown",
   "metadata": {},
   "source": [
    "# Assignement for DQN and Actor Critic Model\n",
    "\n",
    "Train variations of DQN and AC models for the following OpenAI GYM Enviornments\\\n",
    ">Acrobot-v1\\\n",
    ">CartPole-v1\\\n",
    ">MountainCar-v0\n",
    "\n",
    "metric: Number of episodes needed to solve the enviornment\\\n",
    "Plot Reward Curve\\\n",
    "Print number of steps to completion in each episode"
   ]
  },
  {
   "cell_type": "code",
   "execution_count": 1,
   "metadata": {},
   "outputs": [],
   "source": [
    "import numpy as np\n",
    "import datetime\n",
    "\n",
    "from Agent import ACAgent,QnetAgent\n",
    "from Envs import cartpole,mountaincar,acrobot\n",
    "import torch\n",
    "from misc import Experiments\n",
    "\n",
    "model_exps = Experiments()\n",
    "device = torch.device(\"cuda:0\" if torch.cuda.is_available() else \"cpu\")"
   ]
  },
  {
   "cell_type": "code",
   "execution_count": 2,
   "metadata": {},
   "outputs": [
    {
     "name": "stdout",
     "output_type": "stream",
     "text": [
      "--------- Acrobot-v1 Env ----------\n",
      "State Shape: 6\n",
      "Action Shape: 3\n",
      "Enviornment Action Sample: 0\n",
      "-----------\n",
      "Initial State Value:\n",
      "(array([ 0.99962485,  0.02738891,  0.9989402 , -0.04602639, -0.09180529,\n",
      "       -0.09669447], dtype=float32), {})\n",
      "-----------\n",
      "-----------\n",
      "Initial Action Value:\n",
      "1\n",
      "-----------\n",
      "Enviornment step:  (array([ 0.9999849 ,  0.00548956,  0.9983176 , -0.05798252, -0.12309824,\n",
      "       -0.02443151], dtype=float32), -1.0, False, False, {})\n"
     ]
    },
    {
     "name": "stderr",
     "output_type": "stream",
     "text": [
      "d:\\College IITM\\Semester 8\\CS6700 RL\\Tutorials\\Assignment 2\\DQN and ACN\\.venv\\lib\\site-packages\\gym\\utils\\passive_env_checker.py:233: DeprecationWarning: `np.bool8` is a deprecated alias for `np.bool_`.  (Deprecated NumPy 1.24)\n",
      "  if not isinstance(terminated, (bool, np.bool8)):\n",
      "d:\\College IITM\\Semester 8\\CS6700 RL\\Tutorials\\Assignment 2\\DQN and ACN\\ACModel.py:50: UserWarning: Implicit dimension choice for softmax has been deprecated. Change the call to include dim=X as an argument.\n",
      "  pi = F.softmax(self.actor(x))\n"
     ]
    },
    {
     "name": "stdout",
     "output_type": "stream",
     "text": [
      "Episode: 10   Episode Reward: -500.000    Average Reward: -500.000   Steps: 499.000   done: False    info: True\n",
      "Episode: 20   Episode Reward: -500.000    Average Reward: -500.000   Steps: 499.000   done: False    info: True\n",
      "Episode: 30   Episode Reward: -500.000    Average Reward: -500.000   Steps: 499.000   done: False    info: True\n",
      "Episode: 40   Episode Reward: -500.000    Average Reward: -500.000   Steps: 499.000   done: False    info: True\n",
      "Episode: 50   Episode Reward: -500.000    Average Reward: -500.000   Steps: 499.000   done: False    info: True\n",
      "Episode: 60   Episode Reward: -500.000    Average Reward: -500.000   Steps: 499.000   done: False    info: True\n",
      "Episode: 70   Episode Reward: -500.000    Average Reward: -500.000   Steps: 499.000   done: False    info: True\n",
      "Episode: 80   Episode Reward: -500.000    Average Reward: -500.000   Steps: 499.000   done: False    info: True\n",
      "Episode: 90   Episode Reward: -500.000    Average Reward: -500.000   Steps: 499.000   done: False    info: True\n",
      "Episode: 100   Episode Reward: -500.000    Average Reward: -500.000   Steps: 499.000   done: False    info: True\n",
      "Episode: 110   Episode Reward: -500.000    Average Reward: -500.000   Steps: 499.000   done: False    info: True\n",
      "Episode: 120   Episode Reward: -500.000    Average Reward: -500.000   Steps: 499.000   done: False    info: True\n",
      "Episode: 130   Episode Reward: -500.000    Average Reward: -500.000   Steps: 499.000   done: False    info: True\n",
      "Episode: 140   Episode Reward: -500.000    Average Reward: -500.000   Steps: 499.000   done: False    info: True\n",
      "Episode: 150   Episode Reward: -500.000    Average Reward: -500.000   Steps: 499.000   done: False    info: True\n",
      "Episode: 160   Episode Reward: -500.000    Average Reward: -500.000   Steps: 499.000   done: False    info: True\n",
      "Episode: 170   Episode Reward: -500.000    Average Reward: -500.000   Steps: 499.000   done: False    info: True\n",
      "Episode: 180   Episode Reward: -500.000    Average Reward: -500.000   Steps: 499.000   done: False    info: True\n",
      "Episode: 190   Episode Reward: -500.000    Average Reward: -500.000   Steps: 499.000   done: False    info: True\n",
      "Episode: 200   Episode Reward: -500.000    Average Reward: -500.000   Steps: 499.000   done: False    info: True\n",
      "Episode: 210   Episode Reward: -500.000    Average Reward: -500.000   Steps: 499.000   done: False    info: True\n",
      "Episode: 220   Episode Reward: -500.000    Average Reward: -500.000   Steps: 499.000   done: False    info: True\n",
      "Episode: 230   Episode Reward: -500.000    Average Reward: -500.000   Steps: 499.000   done: False    info: True\n",
      "Episode: 240   Episode Reward: -500.000    Average Reward: -500.000   Steps: 499.000   done: False    info: True\n",
      "Episode: 250   Episode Reward: -500.000    Average Reward: -500.000   Steps: 499.000   done: False    info: True\n",
      "Episode: 260   Episode Reward: -500.000    Average Reward: -500.000   Steps: 499.000   done: False    info: True\n",
      "Episode: 270   Episode Reward: -500.000    Average Reward: -500.000   Steps: 499.000   done: False    info: True\n",
      "Episode: 280   Episode Reward: -500.000    Average Reward: -500.000   Steps: 499.000   done: False    info: True\n",
      "Episode: 290   Episode Reward: -500.000    Average Reward: -500.000   Steps: 499.000   done: False    info: True\n",
      "Episode: 300   Episode Reward: -500.000    Average Reward: -500.000   Steps: 499.000   done: False    info: True\n",
      "Episode: 310   Episode Reward: -500.000    Average Reward: -500.000   Steps: 499.000   done: False    info: True\n",
      "Episode: 320   Episode Reward: -500.000    Average Reward: -500.000   Steps: 499.000   done: False    info: True\n",
      "Episode: 330   Episode Reward: -500.000    Average Reward: -500.000   Steps: 499.000   done: False    info: True\n",
      "Episode: 340   Episode Reward: -500.000    Average Reward: -500.000   Steps: 499.000   done: False    info: True\n",
      "Episode: 350   Episode Reward: -500.000    Average Reward: -500.000   Steps: 499.000   done: False    info: True\n"
     ]
    }
   ],
   "source": [
    "''' RUN AC Model using Torch '''\n",
    "from misc import AC_Torch\n",
    "from Agent import ACAgent_torch\n",
    "begin_time = datetime.datetime.now()\n",
    "\n",
    "env, state_shape, action_shape = acrobot()\n",
    "agent = ACAgent_torch(state_size=state_shape,action_size=env.action_space.n, lr=0.001)\n",
    "rewards_epsilon = AC_Torch(env=env,agent=agent)\n",
    "\n",
    "time_taken = datetime.datetime.now() - begin_time\n",
    "print(f\"Time of Completion for Trainig: {time_taken}\")"
   ]
  },
  {
   "attachments": {},
   "cell_type": "markdown",
   "metadata": {},
   "source": [
    "# DQN"
   ]
  },
  {
   "cell_type": "code",
   "execution_count": null,
   "metadata": {},
   "outputs": [],
   "source": [
    "model_exps.DQN_experiment(env_fn=mountaincar,\n",
    "                        batchsize=64,buffersize=int(1e5),q_gamma=0.99,q_lr=5e-4,update=20,target_units=[64,32],local_units=[64,32],\n",
    "                        q_episodes=5000,max_t=1000,eps_s=1.0,eps_e=0.01,eps_d=0.995)"
   ]
  },
  {
   "cell_type": "code",
   "execution_count": null,
   "metadata": {},
   "outputs": [],
   "source": [
    "from misc import DQN, plot\n",
    "''' Trial run to check if algorithm runs and saves the data '''\n",
    "\n",
    "begin_time = datetime.datetime.now()\n",
    "env, state_shape, action_shape = mountaincar()\n",
    "agent = QnetAgent(state_size=state_shape,action_size = action_shape, seed = 42,\n",
    "                  BUFFER_SIZE = int(1e5),\n",
    "                  BATCH_SIZE = 64,\n",
    "                  GAMMA = 0.99,\n",
    "                  LR = 5e-4,\n",
    "                  UPDATE_EVERY = 20)\n",
    "rewards_epsilon = DQN(env=env,agent=agent)\n",
    "\n",
    "time_taken = datetime.datetime.now() - begin_time\n",
    "print(f\"Time of Completion for Trainig: {time_taken}\")\n",
    "plot(rewards_epsilon[0], rewards_epsilon[1])"
   ]
  },
  {
   "attachments": {},
   "cell_type": "markdown",
   "metadata": {},
   "source": [
    "# Actro Critic"
   ]
  },
  {
   "cell_type": "code",
   "execution_count": null,
   "metadata": {},
   "outputs": [],
   "source": [
    "# begin_time = datetime.datetime.now()\n",
    "\n",
    "# env, state_shape, action_shape = cartpole()\n",
    "# agent = ACAgent(state_size=state_shape,action_size=env.action_space.n, lr=1e-4)\n",
    "# rewards_epsilon = AC(env=env,agent=agent)\n",
    "\n",
    "# time_taken = datetime.datetime.now() - begin_time\n",
    "# print(f\"Time of Completion for Trainig: {time_taken}\")"
   ]
  },
  {
   "cell_type": "code",
   "execution_count": null,
   "metadata": {},
   "outputs": [],
   "source": [
    "# plot(rewards_epsilon[0], rewards_epsilon[1])"
   ]
  },
  {
   "cell_type": "code",
   "execution_count": null,
   "metadata": {},
   "outputs": [],
   "source": []
  }
 ],
 "metadata": {
  "kernelspec": {
   "display_name": ".venv",
   "language": "python",
   "name": "python3"
  },
  "language_info": {
   "codemirror_mode": {
    "name": "ipython",
    "version": 3
   },
   "file_extension": ".py",
   "mimetype": "text/x-python",
   "name": "python",
   "nbconvert_exporter": "python",
   "pygments_lexer": "ipython3",
   "version": "3.8.0"
  },
  "orig_nbformat": 4
 },
 "nbformat": 4,
 "nbformat_minor": 2
}
