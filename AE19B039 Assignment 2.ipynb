{
 "cells": [
  {
   "attachments": {},
   "cell_type": "markdown",
   "metadata": {},
   "source": [
    "# Assignement for DQN and Actor Critic Model\n",
    "\n",
    "Train variations of DQN and AC models for the following OpenAI GYM Enviornments\\\n",
    ">Acrobot-v1\\\n",
    ">CartPole-v1\\\n",
    ">MountainCar-v0\n",
    "\n",
    "metric: Number of episodes needed to solve the enviornment\\\n",
    "Plot Reward Curve\\\n",
    "Print number of steps to completion in each episode"
   ]
  },
  {
   "cell_type": "code",
   "execution_count": null,
   "metadata": {},
   "outputs": [],
   "source": [
    "import numpy as np\n",
    "import datetime\n",
    "\n",
    "from Agent import ACAgent,QnetAgent\n",
    "from Envs import cartpole,mountaincar,acrobot\n",
    "from misc import DQN,AC\n",
    "import torch\n",
    "from misc import plot\n",
    "device = torch.device(\"cuda:0\" if torch.cuda.is_available() else \"cpu\")"
   ]
  },
  {
   "cell_type": "code",
   "execution_count": null,
   "metadata": {},
   "outputs": [],
   "source": [
    "# cartpole()\n",
    "# acrobot()\n",
    "# mountaincar()"
   ]
  },
  {
   "attachments": {},
   "cell_type": "markdown",
   "metadata": {},
   "source": [
    "# DQN"
   ]
  },
  {
   "cell_type": "code",
   "execution_count": null,
   "metadata": {},
   "outputs": [],
   "source": [
    "# ''' Trial run to check if algorithm runs and saves the data '''\n",
    "\n",
    "# begin_time = datetime.datetime.now()\n",
    "# env, state_shape, action_shape = mountaincar()\n",
    "# agent = QnetAgent(state_size=state_shape,action_size = action_shape, seed = 0,\n",
    "#                   BUFFER_SIZE = int(1e5),\n",
    "#                   BATCH_SIZE = 64,\n",
    "#                   GAMMA = 0.99,\n",
    "#                   LR = 5e-4,\n",
    "#                   UPDATE_EVERY = 20)\n",
    "# rewards_epsilon = DQN(env=env,agent=agent)\n",
    "\n",
    "# time_taken = datetime.datetime.now() - begin_time\n",
    "# print(f\"Time of Completion for Trainig: {time_taken}\")\n",
    "# plot(rewards_epsilon[0], rewards_epsilon[1])"
   ]
  },
  {
   "attachments": {},
   "cell_type": "markdown",
   "metadata": {},
   "source": [
    "# Actro Critic"
   ]
  },
  {
   "cell_type": "code",
   "execution_count": null,
   "metadata": {},
   "outputs": [],
   "source": [
    "begin_time = datetime.datetime.now()\n",
    "\n",
    "env, state_shape, action_shape = cartpole()\n",
    "agent = ACAgent(state_size=state_shape,action_size=env.action_space.n, lr=1e-4)\n",
    "rewards_epsilon = AC(env=env,agent=agent)\n",
    "\n",
    "time_taken = datetime.datetime.now() - begin_time\n",
    "print(f\"Time of Completion for Trainig: {time_taken}\")"
   ]
  },
  {
   "cell_type": "code",
   "execution_count": null,
   "metadata": {},
   "outputs": [],
   "source": [
    "plot(rewards_epsilon[0], rewards_epsilon[1])"
   ]
  },
  {
   "cell_type": "code",
   "execution_count": null,
   "metadata": {},
   "outputs": [],
   "source": []
  }
 ],
 "metadata": {
  "kernelspec": {
   "display_name": ".venv",
   "language": "python",
   "name": "python3"
  },
  "language_info": {
   "codemirror_mode": {
    "name": "ipython",
    "version": 3
   },
   "file_extension": ".py",
   "mimetype": "text/x-python",
   "name": "python",
   "nbconvert_exporter": "python",
   "pygments_lexer": "ipython3",
   "version": "3.8.0"
  },
  "orig_nbformat": 4
 },
 "nbformat": 4,
 "nbformat_minor": 2
}
